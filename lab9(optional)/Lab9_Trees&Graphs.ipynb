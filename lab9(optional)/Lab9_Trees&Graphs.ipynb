{
  "nbformat": 4,
  "nbformat_minor": 0,
  "metadata": {
    "colab": {
      "provenance": []
    },
    "kernelspec": {
      "name": "python3",
      "display_name": "Python 3"
    },
    "language_info": {
      "name": "python"
    }
  },
  "cells": [
    {
      "cell_type": "code",
      "execution_count": null,
      "metadata": {
        "colab": {
          "base_uri": "https://localhost:8080/"
        },
        "id": "_l5vgH13rxJ6",
        "outputId": "c08161f0-b6a8-4d3f-eaf8-10ca4b9abe4e"
      },
      "outputs": [
        {
          "output_type": "stream",
          "name": "stdout",
          "text": [
            "60\n",
            "70\n"
          ]
        }
      ],
      "source": [
        "class Node:\n",
        "  def __init__(self, val, parent, left, right):\n",
        "    self.val = val\n",
        "    self.parent = parent\n",
        "    self.left = left\n",
        "    self.right = right\n",
        "\n",
        "root = Node(10,None, None, None)\n",
        "root.left = Node(20, root, None, None)\n",
        "root.right = Node(40, root, Node(50, root.right, None, None), Node(60, root.right, None, None))\n",
        "root.left.left = Node(30, root.left, None, Node(70, root.left.left, None, None)) \n",
        "\n",
        "print(root.right.right.val)\n",
        "print(root.left.left.right.val)"
      ]
    },
    {
      "cell_type": "code",
      "source": [
        "def height(root):\n",
        "  if root == None:\n",
        "    return 0\n",
        "  if root.left == None and root.right == None:\n",
        "    return 0\n",
        "  \n",
        "  a = height(root.left)\n",
        "  b = height(root.right)\n",
        "  if a > b:\n",
        "    return a+1\n",
        "  else:\n",
        "    return b+1\n",
        "\n",
        "a = height(root.left.left.right)\n",
        "print(a)\n",
        "a = height(root)\n",
        "print(a)"
      ],
      "metadata": {
        "colab": {
          "base_uri": "https://localhost:8080/"
        },
        "id": "ghpITuQv2M0W",
        "outputId": "d4cec7b1-cef1-4a65-b9fe-87601da63a43"
      },
      "execution_count": null,
      "outputs": [
        {
          "output_type": "stream",
          "name": "stdout",
          "text": [
            "0\n",
            "3\n"
          ]
        }
      ]
    },
    {
      "cell_type": "code",
      "source": [
        "def preorder_traversal(root):\n",
        "  if root == None:\n",
        "    return None\n",
        "  print(root.val)\n",
        "  preorder_traversal(root.left)\n",
        "  preorder_traversal(root.right)\n",
        "\n",
        "preorder_traversal(root)"
      ],
      "metadata": {
        "colab": {
          "base_uri": "https://localhost:8080/"
        },
        "id": "aEUvTk953Qdb",
        "outputId": "78cf6182-15cc-4790-fa05-9d3ec60e2563"
      },
      "execution_count": null,
      "outputs": [
        {
          "output_type": "stream",
          "name": "stdout",
          "text": [
            "10\n",
            "20\n",
            "30\n",
            "70\n",
            "40\n",
            "50\n",
            "60\n"
          ]
        }
      ]
    },
    {
      "cell_type": "code",
      "source": [
        "def inorder_traversal(root):\n",
        "  if root == None:\n",
        "    return None\n",
        "  inorder_traversal(root.left)\n",
        "  print(root.val)\n",
        "  inorder_traversal(root.right)\n",
        "\n",
        "inorder_traversal(root)\n"
      ],
      "metadata": {
        "colab": {
          "base_uri": "https://localhost:8080/"
        },
        "id": "VYbhpLby4ZmZ",
        "outputId": "878a5082-0f52-4dbb-81ad-ad079d030dff"
      },
      "execution_count": null,
      "outputs": [
        {
          "output_type": "stream",
          "name": "stdout",
          "text": [
            "30\n",
            "70\n",
            "20\n",
            "10\n",
            "50\n",
            "40\n",
            "60\n"
          ]
        }
      ]
    },
    {
      "cell_type": "code",
      "source": [
        "def postorder_traversal(root):\n",
        "  if root == None:\n",
        "    return None\n",
        "  postorder_traversal(root.left)\n",
        "  postorder_traversal(root.right)\n",
        "  print(root.val)\n",
        "\n",
        "postorder_traversal(root)"
      ],
      "metadata": {
        "colab": {
          "base_uri": "https://localhost:8080/"
        },
        "id": "yVk9n9ti4ulI",
        "outputId": "1e66c5e9-50bb-48da-c975-8f6742789608"
      },
      "execution_count": null,
      "outputs": [
        {
          "output_type": "stream",
          "name": "stdout",
          "text": [
            "70\n",
            "30\n",
            "20\n",
            "50\n",
            "60\n",
            "40\n",
            "10\n"
          ]
        }
      ]
    }
  ]
}